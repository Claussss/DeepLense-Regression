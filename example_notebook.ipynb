{
 "cells": [
  {
   "cell_type": "code",
   "execution_count": null,
   "source": [
    "from fastai.basics import *\r\n",
    "from fastai.vision.all import *\r\n",
    "from fastai.callback.all import *\r\n",
    "import torch\r\n",
    "from torchvision import transforms\r\n",
    "#from XResnetHybrid import xresnet_hybrid18\r\n",
    "\r\n",
    "import os\r\n",
    "import numpy as np\r\n",
    "import matplotlib\r\n",
    "import matplotlib.pyplot as plt\r\n",
    "\r\n",
    "from tqdm import tqdm\r\n",
    "import warnings\r\n",
    "\r\n",
    "matplotlib.use('Agg')\r\n",
    "%matplotlib inline\r\n",
    "warnings.filterwarnings('ignore')"
   ],
   "outputs": [],
   "metadata": {}
  },
  {
   "cell_type": "code",
   "execution_count": null,
   "source": [],
   "outputs": [],
   "metadata": {}
  }
 ],
 "metadata": {
  "orig_nbformat": 4,
  "language_info": {
   "name": "python",
   "version": "3.8.5"
  },
  "kernelspec": {
   "name": "python3",
   "display_name": "Python 3.8.5 64-bit ('DeepLense-Regression-647Wbmta': pipenv)"
  },
  "interpreter": {
   "hash": "94ba651dc4892b9b39eff64f738fac3dc832246874c3417a1cd9874538024232"
  }
 },
 "nbformat": 4,
 "nbformat_minor": 2
}